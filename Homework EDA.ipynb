{
 "cells": [
  {
   "cell_type": "code",
   "execution_count": 1,
   "id": "c07413bb",
   "metadata": {},
   "outputs": [],
   "source": [
    "#https://www.kaggle.com/prasertk/mobile-phone-rating"
   ]
  },
  {
   "cell_type": "code",
   "execution_count": 2,
   "id": "1cb9e496",
   "metadata": {},
   "outputs": [],
   "source": [
    "import pandas as pd\n",
    "import matplotlib.pyplot as plt\n",
    "import seaborn as sns"
   ]
  },
  {
   "cell_type": "code",
   "execution_count": 3,
   "id": "02cb5b00",
   "metadata": {},
   "outputs": [],
   "source": [
    "dxorat = pd.read_csv('mobilephone_rating.csv')"
   ]
  },
  {
   "cell_type": "code",
   "execution_count": 4,
   "id": "7cb57363",
   "metadata": {},
   "outputs": [
    {
     "name": "stdout",
     "output_type": "stream",
     "text": [
      "(223, 8)\n"
     ]
    }
   ],
   "source": [
    "print(dxorat.shape)"
   ]
  },
  {
   "cell_type": "code",
   "execution_count": 5,
   "id": "9e82cd59",
   "metadata": {
    "scrolled": false
   },
   "outputs": [
    {
     "data": {
      "text/plain": [
       "model       object\n",
       "price       object\n",
       "launch      object\n",
       "camera     float64\n",
       "selfie     float64\n",
       "audio      float64\n",
       "display    float64\n",
       "battery    float64\n",
       "dtype: object"
      ]
     },
     "execution_count": 5,
     "metadata": {},
     "output_type": "execute_result"
    }
   ],
   "source": [
    "dxorat.dtypes"
   ]
  },
  {
   "cell_type": "code",
   "execution_count": 6,
   "id": "b513db0b",
   "metadata": {},
   "outputs": [
    {
     "name": "stdout",
     "output_type": "stream",
     "text": [
      "<class 'pandas.core.frame.DataFrame'>\n",
      "RangeIndex: 223 entries, 0 to 222\n",
      "Data columns (total 8 columns):\n",
      " #   Column   Non-Null Count  Dtype  \n",
      "---  ------   --------------  -----  \n",
      " 0   model    223 non-null    object \n",
      " 1   price    223 non-null    object \n",
      " 2   launch   223 non-null    object \n",
      " 3   camera   184 non-null    float64\n",
      " 4   selfie   72 non-null     float64\n",
      " 5   audio    93 non-null     float64\n",
      " 6   display  64 non-null     float64\n",
      " 7   battery  54 non-null     float64\n",
      "dtypes: float64(5), object(3)\n",
      "memory usage: 14.1+ KB\n"
     ]
    }
   ],
   "source": [
    "dxorat.info()"
   ]
  },
  {
   "cell_type": "code",
   "execution_count": 7,
   "id": "8128b047",
   "metadata": {},
   "outputs": [
    {
     "data": {
      "text/plain": [
       "True"
      ]
     },
     "execution_count": 7,
     "metadata": {},
     "output_type": "execute_result"
    }
   ],
   "source": [
    "dxorat.isna().values.any()"
   ]
  },
  {
   "cell_type": "code",
   "execution_count": 8,
   "id": "affc84b7",
   "metadata": {},
   "outputs": [
    {
     "name": "stdout",
     "output_type": "stream",
     "text": [
      "                                     model  price    launch  camera  selfie  \\\n",
      "0                           Huawei P50 Pro   $907  Jul 2021   144.0   106.0   \n",
      "1                       Xiaomi Mi 11 Ultra  $1200  Mar 2021   143.0    94.0   \n",
      "2                      Huawei Mate 40 Pro+  $1363  Oct 2020   139.0     NaN   \n",
      "3                  Apple iPhone 13 Pro Max  $1099  Sep 2021   137.0    99.0   \n",
      "4                      Apple iPhone 13 Pro   $999  Sep 2021   137.0    99.0   \n",
      "5                       Huawei Mate 40 Pro  $1199  Oct 2020   136.0   104.0   \n",
      "6                       Google Pixel 6 Pro   $899  Oct 2021   135.0   102.0   \n",
      "7                            Vivo X70 Pro+   $833  Sep 2021   135.0     NaN   \n",
      "8  Asus Smartphone for Snapdragon Insiders  $1499  Jul 2021   133.0     NaN   \n",
      "9                       Xiaomi Mi 10 Ultra   $803  Aug 2020   133.0    88.0   \n",
      "\n",
      "   audio  display  battery  \n",
      "0    NaN     93.0      NaN  \n",
      "1   71.0     87.0     69.0  \n",
      "2    NaN      NaN      NaN  \n",
      "3   75.0     99.0     89.0  \n",
      "4   75.0     98.0     76.0  \n",
      "5    NaN      NaN      NaN  \n",
      "6   71.0     90.0      NaN  \n",
      "7   66.0     91.0      NaN  \n",
      "8   77.0      NaN      NaN  \n",
      "9    NaN     73.0      NaN  \n"
     ]
    }
   ],
   "source": [
    "print(dxorat.head(10))"
   ]
  },
  {
   "cell_type": "code",
   "execution_count": 9,
   "id": "fa05a79e",
   "metadata": {},
   "outputs": [
    {
     "name": "stdout",
     "output_type": "stream",
     "text": [
      "                       model price    launch  camera  selfie  audio  display  \\\n",
      "213           Wiko Power U30  $179  Apr 2021     NaN     NaN    NaN      NaN   \n",
      "214              Oppo A74 5G  $299  Apr 2021     NaN     NaN    NaN      NaN   \n",
      "215  Xiaomi Redmi Note 10 5G  $229  Mar 2021     NaN     NaN    NaN      NaN   \n",
      "216              Oppo A54 5G  $259  Apr 2021     NaN     NaN    NaN      NaN   \n",
      "217                Vivo Y20s  $199  Oct 2020     NaN     NaN    NaN      NaN   \n",
      "218          Huawei P40 Lite  $279  Feb 2020     NaN     NaN    NaN      NaN   \n",
      "219           Wiko Power U20  $159  Jan 2021     NaN     NaN    NaN      NaN   \n",
      "220   Motorola Moto G9 Power  $229  Nov 2020     NaN     NaN    NaN      NaN   \n",
      "221               Realme C11  $119  Jun 2020     NaN     NaN    NaN      NaN   \n",
      "222           Xiaomi Redmi 9  $159  Jun 2020     NaN     NaN    NaN      NaN   \n",
      "\n",
      "     battery  \n",
      "213     86.0  \n",
      "214     78.0  \n",
      "215     78.0  \n",
      "216     76.0  \n",
      "217     75.0  \n",
      "218     73.0  \n",
      "219     70.0  \n",
      "220     70.0  \n",
      "221     61.0  \n",
      "222     54.0  \n"
     ]
    }
   ],
   "source": [
    "print(dxorat.tail(10))"
   ]
  },
  {
   "cell_type": "code",
   "execution_count": 10,
   "id": "47fbcf69",
   "metadata": {},
   "outputs": [
    {
     "name": "stdout",
     "output_type": "stream",
     "text": [
      "                 model price    launch      camera      selfie      audio  \\\n",
      "count              223   223       223  184.000000   72.000000  93.000000   \n",
      "unique             223    88        55         NaN         NaN        NaN   \n",
      "top     Huawei P50 Pro  $799  Mar 2021         NaN         NaN        NaN   \n",
      "freq                 1    23        24         NaN         NaN        NaN   \n",
      "mean               NaN   NaN       NaN  106.445652   87.069444  65.451613   \n",
      "std                NaN   NaN       NaN   17.605801   14.862114   8.482099   \n",
      "min                NaN   NaN       NaN   56.000000   22.000000  41.000000   \n",
      "25%                NaN   NaN       NaN   94.000000   80.750000  60.000000   \n",
      "50%                NaN   NaN       NaN  108.000000   91.000000  66.000000   \n",
      "75%                NaN   NaN       NaN  119.000000   98.000000  71.000000   \n",
      "max                NaN   NaN       NaN  144.000000  106.000000  81.000000   \n",
      "\n",
      "          display    battery  \n",
      "count   64.000000  54.000000  \n",
      "unique        NaN        NaN  \n",
      "top           NaN        NaN  \n",
      "freq          NaN        NaN  \n",
      "mean    82.375000  74.351852  \n",
      "std     10.173885  11.093356  \n",
      "min     43.000000  49.000000  \n",
      "25%     78.750000  66.250000  \n",
      "50%     85.500000  74.500000  \n",
      "75%     89.000000  84.750000  \n",
      "max     99.000000  96.000000  \n"
     ]
    }
   ],
   "source": [
    "print(dxorat.describe(include='all'))"
   ]
  },
  {
   "cell_type": "code",
   "execution_count": 11,
   "id": "d9cfd58c",
   "metadata": {},
   "outputs": [
    {
     "name": "stdout",
     "output_type": "stream",
     "text": [
      "                 model price    launch\n",
      "count              223   223       223\n",
      "unique             223    88        55\n",
      "top     Huawei P50 Pro  $799  Mar 2021\n",
      "freq                 1    23        24\n"
     ]
    }
   ],
   "source": [
    "print(dxorat.describe(include='object'))"
   ]
  },
  {
   "cell_type": "code",
   "execution_count": 12,
   "id": "31e15629",
   "metadata": {},
   "outputs": [
    {
     "name": "stdout",
     "output_type": "stream",
     "text": [
      "108.0\n"
     ]
    }
   ],
   "source": [
    "#median camera ratings\n",
    "print(dxorat.loc[:, 'camera'].median())"
   ]
  },
  {
   "cell_type": "code",
   "execution_count": 13,
   "id": "04f76f41",
   "metadata": {},
   "outputs": [
    {
     "name": "stdout",
     "output_type": "stream",
     "text": [
      "56.0\n"
     ]
    }
   ],
   "source": [
    "#lowest camera ratings\n",
    "print(dxorat.loc[:, 'camera'].min())"
   ]
  },
  {
   "cell_type": "code",
   "execution_count": 14,
   "id": "5505e535",
   "metadata": {},
   "outputs": [
    {
     "data": {
      "text/plain": [
       "model\n",
       "Altice S61                   56.0\n",
       "Apple iPhone 11             119.0\n",
       "Apple iPhone 11 Pro Max     124.0\n",
       "Apple iPhone 12             122.0\n",
       "Apple iPhone 12 Pro         128.0\n",
       "                            ...  \n",
       "Xiaomi Redmi Note 10 Pro    106.0\n",
       "Xiaomi Redmi Note 10S        92.0\n",
       "Xiaomi Redmi Note 8 Pro      84.0\n",
       "ZTE Axon 20 5G               87.0\n",
       "ZTE Axon 30 Ultra           107.0\n",
       "Name: camera, Length: 223, dtype: float64"
      ]
     },
     "execution_count": 14,
     "metadata": {},
     "output_type": "execute_result"
    }
   ],
   "source": [
    "dxorat['camera'].groupby([dxorat['model']]).median()"
   ]
  },
  {
   "cell_type": "code",
   "execution_count": 15,
   "id": "37cc38f9",
   "metadata": {},
   "outputs": [
    {
     "data": {
      "text/html": [
       "<div>\n",
       "<style scoped>\n",
       "    .dataframe tbody tr th:only-of-type {\n",
       "        vertical-align: middle;\n",
       "    }\n",
       "\n",
       "    .dataframe tbody tr th {\n",
       "        vertical-align: top;\n",
       "    }\n",
       "\n",
       "    .dataframe thead th {\n",
       "        text-align: right;\n",
       "    }\n",
       "</style>\n",
       "<table border=\"1\" class=\"dataframe\">\n",
       "  <thead>\n",
       "    <tr style=\"text-align: right;\">\n",
       "      <th></th>\n",
       "      <th>model</th>\n",
       "      <th>price</th>\n",
       "      <th>launch</th>\n",
       "      <th>camera</th>\n",
       "      <th>selfie</th>\n",
       "      <th>audio</th>\n",
       "      <th>display</th>\n",
       "      <th>battery</th>\n",
       "    </tr>\n",
       "  </thead>\n",
       "  <tbody>\n",
       "    <tr>\n",
       "      <th>0</th>\n",
       "      <td>Huawei P50 Pro</td>\n",
       "      <td>$907</td>\n",
       "      <td>Jul 2021</td>\n",
       "      <td>144.0</td>\n",
       "      <td>106.0</td>\n",
       "      <td>NaN</td>\n",
       "      <td>93.0</td>\n",
       "      <td>NaN</td>\n",
       "    </tr>\n",
       "    <tr>\n",
       "      <th>1</th>\n",
       "      <td>Xiaomi Mi 11 Ultra</td>\n",
       "      <td>$1200</td>\n",
       "      <td>Mar 2021</td>\n",
       "      <td>143.0</td>\n",
       "      <td>94.0</td>\n",
       "      <td>71.0</td>\n",
       "      <td>87.0</td>\n",
       "      <td>69.0</td>\n",
       "    </tr>\n",
       "    <tr>\n",
       "      <th>2</th>\n",
       "      <td>Huawei Mate 40 Pro+</td>\n",
       "      <td>$1363</td>\n",
       "      <td>Oct 2020</td>\n",
       "      <td>139.0</td>\n",
       "      <td>NaN</td>\n",
       "      <td>NaN</td>\n",
       "      <td>NaN</td>\n",
       "      <td>NaN</td>\n",
       "    </tr>\n",
       "    <tr>\n",
       "      <th>4</th>\n",
       "      <td>Apple iPhone 13 Pro</td>\n",
       "      <td>$999</td>\n",
       "      <td>Sep 2021</td>\n",
       "      <td>137.0</td>\n",
       "      <td>99.0</td>\n",
       "      <td>75.0</td>\n",
       "      <td>98.0</td>\n",
       "      <td>76.0</td>\n",
       "    </tr>\n",
       "    <tr>\n",
       "      <th>3</th>\n",
       "      <td>Apple iPhone 13 Pro Max</td>\n",
       "      <td>$1099</td>\n",
       "      <td>Sep 2021</td>\n",
       "      <td>137.0</td>\n",
       "      <td>99.0</td>\n",
       "      <td>75.0</td>\n",
       "      <td>99.0</td>\n",
       "      <td>89.0</td>\n",
       "    </tr>\n",
       "    <tr>\n",
       "      <th>...</th>\n",
       "      <td>...</td>\n",
       "      <td>...</td>\n",
       "      <td>...</td>\n",
       "      <td>...</td>\n",
       "      <td>...</td>\n",
       "      <td>...</td>\n",
       "      <td>...</td>\n",
       "      <td>...</td>\n",
       "    </tr>\n",
       "    <tr>\n",
       "      <th>218</th>\n",
       "      <td>Huawei P40 Lite</td>\n",
       "      <td>$279</td>\n",
       "      <td>Feb 2020</td>\n",
       "      <td>NaN</td>\n",
       "      <td>NaN</td>\n",
       "      <td>NaN</td>\n",
       "      <td>NaN</td>\n",
       "      <td>73.0</td>\n",
       "    </tr>\n",
       "    <tr>\n",
       "      <th>219</th>\n",
       "      <td>Wiko Power U20</td>\n",
       "      <td>$159</td>\n",
       "      <td>Jan 2021</td>\n",
       "      <td>NaN</td>\n",
       "      <td>NaN</td>\n",
       "      <td>NaN</td>\n",
       "      <td>NaN</td>\n",
       "      <td>70.0</td>\n",
       "    </tr>\n",
       "    <tr>\n",
       "      <th>220</th>\n",
       "      <td>Motorola Moto G9 Power</td>\n",
       "      <td>$229</td>\n",
       "      <td>Nov 2020</td>\n",
       "      <td>NaN</td>\n",
       "      <td>NaN</td>\n",
       "      <td>NaN</td>\n",
       "      <td>NaN</td>\n",
       "      <td>70.0</td>\n",
       "    </tr>\n",
       "    <tr>\n",
       "      <th>221</th>\n",
       "      <td>Realme C11</td>\n",
       "      <td>$119</td>\n",
       "      <td>Jun 2020</td>\n",
       "      <td>NaN</td>\n",
       "      <td>NaN</td>\n",
       "      <td>NaN</td>\n",
       "      <td>NaN</td>\n",
       "      <td>61.0</td>\n",
       "    </tr>\n",
       "    <tr>\n",
       "      <th>222</th>\n",
       "      <td>Xiaomi Redmi 9</td>\n",
       "      <td>$159</td>\n",
       "      <td>Jun 2020</td>\n",
       "      <td>NaN</td>\n",
       "      <td>NaN</td>\n",
       "      <td>NaN</td>\n",
       "      <td>NaN</td>\n",
       "      <td>54.0</td>\n",
       "    </tr>\n",
       "  </tbody>\n",
       "</table>\n",
       "<p>223 rows × 8 columns</p>\n",
       "</div>"
      ],
      "text/plain": [
       "                       model  price    launch  camera  selfie  audio  display  \\\n",
       "0             Huawei P50 Pro   $907  Jul 2021   144.0   106.0    NaN     93.0   \n",
       "1         Xiaomi Mi 11 Ultra  $1200  Mar 2021   143.0    94.0   71.0     87.0   \n",
       "2        Huawei Mate 40 Pro+  $1363  Oct 2020   139.0     NaN    NaN      NaN   \n",
       "4        Apple iPhone 13 Pro   $999  Sep 2021   137.0    99.0   75.0     98.0   \n",
       "3    Apple iPhone 13 Pro Max  $1099  Sep 2021   137.0    99.0   75.0     99.0   \n",
       "..                       ...    ...       ...     ...     ...    ...      ...   \n",
       "218          Huawei P40 Lite   $279  Feb 2020     NaN     NaN    NaN      NaN   \n",
       "219           Wiko Power U20   $159  Jan 2021     NaN     NaN    NaN      NaN   \n",
       "220   Motorola Moto G9 Power   $229  Nov 2020     NaN     NaN    NaN      NaN   \n",
       "221               Realme C11   $119  Jun 2020     NaN     NaN    NaN      NaN   \n",
       "222           Xiaomi Redmi 9   $159  Jun 2020     NaN     NaN    NaN      NaN   \n",
       "\n",
       "     battery  \n",
       "0        NaN  \n",
       "1       69.0  \n",
       "2        NaN  \n",
       "4       76.0  \n",
       "3       89.0  \n",
       "..       ...  \n",
       "218     73.0  \n",
       "219     70.0  \n",
       "220     70.0  \n",
       "221     61.0  \n",
       "222     54.0  \n",
       "\n",
       "[223 rows x 8 columns]"
      ]
     },
     "execution_count": 15,
     "metadata": {},
     "output_type": "execute_result"
    }
   ],
   "source": [
    "#Top 3 DXOmark Camera Rate\n",
    "dxorat.sort_values(by='camera', ascending=False)"
   ]
  },
  {
   "cell_type": "code",
   "execution_count": 16,
   "id": "7181ae54",
   "metadata": {},
   "outputs": [
    {
     "data": {
      "text/html": [
       "<div>\n",
       "<style scoped>\n",
       "    .dataframe tbody tr th:only-of-type {\n",
       "        vertical-align: middle;\n",
       "    }\n",
       "\n",
       "    .dataframe tbody tr th {\n",
       "        vertical-align: top;\n",
       "    }\n",
       "\n",
       "    .dataframe thead th {\n",
       "        text-align: right;\n",
       "    }\n",
       "</style>\n",
       "<table border=\"1\" class=\"dataframe\">\n",
       "  <thead>\n",
       "    <tr style=\"text-align: right;\">\n",
       "      <th></th>\n",
       "      <th>camera</th>\n",
       "      <th>selfie</th>\n",
       "      <th>audio</th>\n",
       "      <th>display</th>\n",
       "      <th>battery</th>\n",
       "    </tr>\n",
       "    <tr>\n",
       "      <th>model</th>\n",
       "      <th></th>\n",
       "      <th></th>\n",
       "      <th></th>\n",
       "      <th></th>\n",
       "      <th></th>\n",
       "    </tr>\n",
       "  </thead>\n",
       "  <tbody>\n",
       "    <tr>\n",
       "      <th>Altice S61</th>\n",
       "      <td>56.0</td>\n",
       "      <td>0.0</td>\n",
       "      <td>0.0</td>\n",
       "      <td>0.0</td>\n",
       "      <td>0.0</td>\n",
       "    </tr>\n",
       "    <tr>\n",
       "      <th>Apple iPhone 11</th>\n",
       "      <td>119.0</td>\n",
       "      <td>91.0</td>\n",
       "      <td>71.0</td>\n",
       "      <td>0.0</td>\n",
       "      <td>0.0</td>\n",
       "    </tr>\n",
       "    <tr>\n",
       "      <th>Apple iPhone 11 Pro Max</th>\n",
       "      <td>124.0</td>\n",
       "      <td>92.0</td>\n",
       "      <td>71.0</td>\n",
       "      <td>84.0</td>\n",
       "      <td>0.0</td>\n",
       "    </tr>\n",
       "    <tr>\n",
       "      <th>Apple iPhone 12</th>\n",
       "      <td>122.0</td>\n",
       "      <td>98.0</td>\n",
       "      <td>73.0</td>\n",
       "      <td>85.0</td>\n",
       "      <td>0.0</td>\n",
       "    </tr>\n",
       "    <tr>\n",
       "      <th>Apple iPhone 12 Pro</th>\n",
       "      <td>128.0</td>\n",
       "      <td>98.0</td>\n",
       "      <td>0.0</td>\n",
       "      <td>87.0</td>\n",
       "      <td>0.0</td>\n",
       "    </tr>\n",
       "    <tr>\n",
       "      <th>...</th>\n",
       "      <td>...</td>\n",
       "      <td>...</td>\n",
       "      <td>...</td>\n",
       "      <td>...</td>\n",
       "      <td>...</td>\n",
       "    </tr>\n",
       "    <tr>\n",
       "      <th>Xiaomi Redmi Note 10 Pro</th>\n",
       "      <td>106.0</td>\n",
       "      <td>0.0</td>\n",
       "      <td>0.0</td>\n",
       "      <td>0.0</td>\n",
       "      <td>84.0</td>\n",
       "    </tr>\n",
       "    <tr>\n",
       "      <th>Xiaomi Redmi Note 10S</th>\n",
       "      <td>92.0</td>\n",
       "      <td>0.0</td>\n",
       "      <td>0.0</td>\n",
       "      <td>0.0</td>\n",
       "      <td>86.0</td>\n",
       "    </tr>\n",
       "    <tr>\n",
       "      <th>Xiaomi Redmi Note 8 Pro</th>\n",
       "      <td>84.0</td>\n",
       "      <td>0.0</td>\n",
       "      <td>0.0</td>\n",
       "      <td>0.0</td>\n",
       "      <td>0.0</td>\n",
       "    </tr>\n",
       "    <tr>\n",
       "      <th>ZTE Axon 20 5G</th>\n",
       "      <td>87.0</td>\n",
       "      <td>26.0</td>\n",
       "      <td>0.0</td>\n",
       "      <td>0.0</td>\n",
       "      <td>0.0</td>\n",
       "    </tr>\n",
       "    <tr>\n",
       "      <th>ZTE Axon 30 Ultra</th>\n",
       "      <td>107.0</td>\n",
       "      <td>0.0</td>\n",
       "      <td>63.0</td>\n",
       "      <td>78.0</td>\n",
       "      <td>0.0</td>\n",
       "    </tr>\n",
       "  </tbody>\n",
       "</table>\n",
       "<p>223 rows × 5 columns</p>\n",
       "</div>"
      ],
      "text/plain": [
       "                          camera  selfie  audio  display  battery\n",
       "model                                                            \n",
       "Altice S61                  56.0     0.0    0.0      0.0      0.0\n",
       "Apple iPhone 11            119.0    91.0   71.0      0.0      0.0\n",
       "Apple iPhone 11 Pro Max    124.0    92.0   71.0     84.0      0.0\n",
       "Apple iPhone 12            122.0    98.0   73.0     85.0      0.0\n",
       "Apple iPhone 12 Pro        128.0    98.0    0.0     87.0      0.0\n",
       "...                          ...     ...    ...      ...      ...\n",
       "Xiaomi Redmi Note 10 Pro   106.0     0.0    0.0      0.0     84.0\n",
       "Xiaomi Redmi Note 10S       92.0     0.0    0.0      0.0     86.0\n",
       "Xiaomi Redmi Note 8 Pro     84.0     0.0    0.0      0.0      0.0\n",
       "ZTE Axon 20 5G              87.0    26.0    0.0      0.0      0.0\n",
       "ZTE Axon 30 Ultra          107.0     0.0   63.0     78.0      0.0\n",
       "\n",
       "[223 rows x 5 columns]"
      ]
     },
     "execution_count": 16,
     "metadata": {},
     "output_type": "execute_result"
    }
   ],
   "source": [
    "dxorat.groupby(['model']).sum()\n"
   ]
  },
  {
   "cell_type": "code",
   "execution_count": 17,
   "id": "ac69520c",
   "metadata": {},
   "outputs": [
    {
     "data": {
      "text/plain": [
       "<AxesSubplot:>"
      ]
     },
     "execution_count": 17,
     "metadata": {},
     "output_type": "execute_result"
    },
    {
     "data": {
      "image/png": "[encoded data removed]",
      "text/plain": [
       "<Figure size 432x288 with 2 Axes>"
      ]
     },
     "metadata": {
      "needs_background": "light"
     },
     "output_type": "display_data"
    }
   ],
   "source": [
    "sns.heatmap(data=dxorat.corr())"
   ]
  },
  {
   "cell_type": "code",
   "execution_count": 19,
   "id": "16493ee3",
   "metadata": {},
   "outputs": [
    {
     "data": {
      "text/plain": [
       "105.0    8\n",
       "120.0    8\n",
       "90.0     7\n",
       "103.0    6\n",
       "111.0    6\n",
       "        ..\n",
       "143.0    1\n",
       "125.0    1\n",
       "136.0    1\n",
       "139.0    1\n",
       "56.0     1\n",
       "Name: camera, Length: 65, dtype: int64"
      ]
     },
     "execution_count": 19,
     "metadata": {},
     "output_type": "execute_result"
    }
   ],
   "source": [
    "dxorat['camera'].value_counts()"
   ]
  },
  {
   "cell_type": "code",
   "execution_count": 27,
   "id": "534270ae",
   "metadata": {},
   "outputs": [
    {
     "data": {
      "image/png": "[encoded data removed]",
      "text/plain": [
       "<Figure size 432x288 with 1 Axes>"
      ]
     },
     "metadata": {
      "needs_background": "light"
     },
     "output_type": "display_data"
    }
   ],
   "source": [
    "sns.countplot(data=dxorat, x ='camera')\n",
    "plt.tight_layout()"
   ]
  },
  {
   "cell_type": "code",
   "execution_count": null,
   "id": "4c42a8cf",
   "metadata": {},
   "outputs": [],
   "source": []
  }
 ],
 "metadata": {
  "kernelspec": {
   "display_name": "Python 3 (ipykernel)",
   "language": "python",
   "name": "python3"
  },
  "language_info": {
   "codemirror_mode": {
    "name": "ipython",
    "version": 3
   },
   "file_extension": ".py",
   "mimetype": "text/x-python",
   "name": "python",
   "nbconvert_exporter": "python",
   "pygments_lexer": "ipython3",
   "version": "3.9.7"
  }
 },
 "nbformat": 4,
 "nbformat_minor": 5
}
